{
  "nbformat": 4,
  "nbformat_minor": 0,
  "metadata": {
    "colab": {
      "provenance": [],
      "authorship_tag": "ABX9TyNfxELBj2SslzXGOUHnU8Iz",
      "include_colab_link": true
    },
    "kernelspec": {
      "name": "python3",
      "display_name": "Python 3"
    },
    "language_info": {
      "name": "python"
    }
  },
  "cells": [
    {
      "cell_type": "markdown",
      "metadata": {
        "id": "view-in-github",
        "colab_type": "text"
      },
      "source": [
        "<a href=\"https://colab.research.google.com/github/muthu589/demo/blob/main/Copy_of_Untitled3.ipynb\" target=\"_parent\"><img src=\"https://colab.research.google.com/assets/colab-badge.svg\" alt=\"Open In Colab\"/></a>"
      ]
    },
    {
      "cell_type": "code",
      "source": [
        "!pip install matplotlib deap"
      ],
      "metadata": {
        "colab": {
          "base_uri": "https://localhost:8080/"
        },
        "id": "KAcC7ym_ea22",
        "outputId": "eac2a0f9-2d45-4b11-9ad5-ff830c668fb6"
      },
      "execution_count": null,
      "outputs": [
        {
          "output_type": "stream",
          "name": "stdout",
          "text": [
            "Requirement already satisfied: matplotlib in /usr/local/lib/python3.10/dist-packages (3.10.0)\n",
            "Requirement already satisfied: deap in /usr/local/lib/python3.10/dist-packages (1.4.2)\n",
            "Requirement already satisfied: contourpy>=1.0.1 in /usr/local/lib/python3.10/dist-packages (from matplotlib) (1.3.1)\n",
            "Requirement already satisfied: cycler>=0.10 in /usr/local/lib/python3.10/dist-packages (from matplotlib) (0.12.1)\n",
            "Requirement already satisfied: fonttools>=4.22.0 in /usr/local/lib/python3.10/dist-packages (from matplotlib) (4.55.3)\n",
            "Requirement already satisfied: kiwisolver>=1.3.1 in /usr/local/lib/python3.10/dist-packages (from matplotlib) (1.4.8)\n",
            "Requirement already satisfied: numpy>=1.23 in /usr/local/lib/python3.10/dist-packages (from matplotlib) (1.26.4)\n",
            "Requirement already satisfied: packaging>=20.0 in /usr/local/lib/python3.10/dist-packages (from matplotlib) (24.2)\n",
            "Requirement already satisfied: pillow>=8 in /usr/local/lib/python3.10/dist-packages (from matplotlib) (11.1.0)\n",
            "Requirement already satisfied: pyparsing>=2.3.1 in /usr/local/lib/python3.10/dist-packages (from matplotlib) (3.2.1)\n",
            "Requirement already satisfied: python-dateutil>=2.7 in /usr/local/lib/python3.10/dist-packages (from matplotlib) (2.8.2)\n",
            "Requirement already satisfied: six>=1.5 in /usr/local/lib/python3.10/dist-packages (from python-dateutil>=2.7->matplotlib) (1.17.0)\n"
          ]
        }
      ]
    },
    {
      "cell_type": "code",
      "source": [
        "#TASK 1 - Install matplotlib and deap\n",
        "#       - Import all necessary libraries\n",
        "\n",
        "import random\n",
        "import numpy as np\n",
        "import matplotlib.pyplot as plt\n",
        "from deap import base, creator, tools, algorithms"
      ],
      "metadata": {
        "id": "LtL3nxUReUeX"
      },
      "execution_count": null,
      "outputs": []
    },
    {
      "cell_type": "code",
      "source": [
        "# TODO: Task 2 - Define the number of locations and vehicles\n",
        "\n",
        "num_locations =20 # Define the number of locations (eg 10)\n",
        "\n",
        "locations =  [(random.randint(0, 100), random.randint(0, 100))for _ in range(num_locations)]   # Create a list of tuples representing location coordinates -\n",
        "            # try to use a random number generator\n",
        "            # (x, y) could be between 0 and 100\n",
        "\n",
        "depot =(50,50) # Define the coordinates for the depot\n",
        "\n",
        "num_vehicles =3  # Define the number of vehicles - (eg 3)"
      ],
      "metadata": {
        "id": "l_MkCbJHenHN"
      },
      "execution_count": null,
      "outputs": []
    },
    {
      "cell_type": "code",
      "source": [
        "# TASK 3 - Genetic Algorithm Setup\n",
        "       # - Figure out how to represent an individual OR encode an individual\n",
        "\n",
        "creator.create(\"FitnessMin\", )\n",
        "creator.create(\"Individual\", )"
      ],
      "metadata": {
        "colab": {
          "base_uri": "https://localhost:8080/",
          "height": 193
        },
        "id": "VKemHe_CfB6k",
        "outputId": "8322792e-a0cb-49da-c29b-7361bde995d8"
      },
      "execution_count": null,
      "outputs": [
        {
          "output_type": "error",
          "ename": "TypeError",
          "evalue": "create() missing 1 required positional argument: 'base'",
          "traceback": [
            "\u001b[0;31m---------------------------------------------------------------------------\u001b[0m",
            "\u001b[0;31mTypeError\u001b[0m                                 Traceback (most recent call last)",
            "\u001b[0;32m<ipython-input-28-f34256eb4670>\u001b[0m in \u001b[0;36m<cell line: 4>\u001b[0;34m()\u001b[0m\n\u001b[1;32m      2\u001b[0m        \u001b[0;31m# - Figure out how to represent an individual OR encode an individual\u001b[0m\u001b[0;34m\u001b[0m\u001b[0;34m\u001b[0m\u001b[0m\n\u001b[1;32m      3\u001b[0m \u001b[0;34m\u001b[0m\u001b[0m\n\u001b[0;32m----> 4\u001b[0;31m \u001b[0mcreator\u001b[0m\u001b[0;34m.\u001b[0m\u001b[0mcreate\u001b[0m\u001b[0;34m(\u001b[0m\u001b[0;34m\"FitnessMin\"\u001b[0m\u001b[0;34m,\u001b[0m \u001b[0;34m)\u001b[0m\u001b[0;34m\u001b[0m\u001b[0;34m\u001b[0m\u001b[0m\n\u001b[0m\u001b[1;32m      5\u001b[0m \u001b[0mcreator\u001b[0m\u001b[0;34m.\u001b[0m\u001b[0mcreate\u001b[0m\u001b[0;34m(\u001b[0m\u001b[0;34m\"Individual\"\u001b[0m\u001b[0;34m,\u001b[0m \u001b[0;34m)\u001b[0m\u001b[0;34m\u001b[0m\u001b[0;34m\u001b[0m\u001b[0m\n",
            "\u001b[0;31mTypeError\u001b[0m: create() missing 1 required positional argument: 'base'"
          ]
        }
      ]
    },
    {
      "cell_type": "code",
      "source": [
        "creator.create(\"FitnessMin\", base.Fitness, weights=(-1.0, -1.0))\n",
        "creator.create(\"Individual\", list, fitness=creator.FitnessMin)\n",
        "\n"
      ],
      "metadata": {
        "colab": {
          "base_uri": "https://localhost:8080/"
        },
        "id": "KOc0xzxmgFdc",
        "outputId": "5e2d16e3-9a9f-4c47-d251-0b70366ab54c"
      },
      "execution_count": null,
      "outputs": [
        {
          "output_type": "stream",
          "name": "stderr",
          "text": [
            "/usr/local/lib/python3.10/dist-packages/deap/creator.py:185: RuntimeWarning: A class named 'FitnessMin' has already been created and it will be overwritten. Consider deleting previous creation of that class or rename it.\n",
            "  warnings.warn(\"A class named '{0}' has already been created and it \"\n",
            "/usr/local/lib/python3.10/dist-packages/deap/creator.py:185: RuntimeWarning: A class named 'Individual' has already been created and it will be overwritten. Consider deleting previous creation of that class or rename it.\n",
            "  warnings.warn(\"A class named '{0}' has already been created and it \"\n"
          ]
        }
      ]
    },
    {
      "cell_type": "code",
      "source": [
        "#TASK 4 - Starting with the toolbox and tools\n",
        "\n",
        "toolbox = base.Toolbox()\n",
        "toolbox.register(\"indices\", random.sample, range(num_locations), num_locations)\n",
        "toolbox.register(\"individual\", #finish defining how to build an individual)\n",
        "toolbox.register(\"population\", #finish defining how to build an population)"
      ],
      "metadata": {
        "id": "vIRyqMwFfFkI"
      },
      "execution_count": null,
      "outputs": []
    },
    {
      "cell_type": "code",
      "source": [
        "toolbox = base.Toolbox()\n",
        "toolbox.register(\"indices\", random.sample, range(num_locations), num_locations)\n",
        "toolbox.register(\"individual\", tools.initIterate, creator.Individual, toolbox.indices)\n",
        "toolbox.register(\"population\", tools.initRepeat, list, toolbox.individual)"
      ],
      "metadata": {
        "id": "reA6MJu0fj1o"
      },
      "execution_count": null,
      "outputs": []
    },
    {
      "cell_type": "code",
      "source": [
        "# TASK 5 and 6\n",
        "\n",
        "def evalVRP(individual):\n",
        "    # TODO: Task 5 - Write the fitness evaluation function\n",
        "    #              - Return (total distance, standard deviation)\n",
        "\n",
        "\n",
        "\n",
        "#TASK 6 - Register the evaluate function in the toolbox"
      ],
      "metadata": {
        "id": "tHbfDn00frJg"
      },
      "execution_count": null,
      "outputs": []
    },
    {
      "cell_type": "code",
      "source": [
        "def evalVRP(individual):\n",
        "    total_distance = 0\n",
        "    distances = []\n",
        "    for i in range(num_vehicles):\n",
        "\n",
        "        vehicle_route = [depot] + [locations[individual[j]] for j in range(i, len(individual), num_vehicles)] + [depot]\n",
        "\n",
        "        vehicle_distance = sum(np.linalg.norm(np.array(vehicle_route[k+1]) - np.array(vehicle_route[k])) for k in range(len(vehicle_route)-1))\n",
        "\n",
        "        total_distance += vehicle_distance\n",
        "        distances.append(vehicle_distance)\n",
        "\n",
        "    balance_penalty = np.std(distances)\n",
        "    return total_distance, balance_penalty\n",
        "\n",
        "toolbox.register(\"evaluate\", evalVRP)"
      ],
      "metadata": {
        "id": "ssem3Tikf0CB"
      },
      "execution_count": null,
      "outputs": []
    },
    {
      "cell_type": "code",
      "source": [
        "# TODO: Task 7 - Configure the genetic operators\n",
        "\n",
        "toolbox.register(\"mate\", # Choose and configure a crossover method)\n",
        "toolbox.register(\"mutate\", # Choose and configure a mutation method)\n",
        "toolbox.register(\"select\", # Choose and configure a selection method)"
      ],
      "metadata": {
        "id": "Bc8jzjSEf3hm"
      },
      "execution_count": null,
      "outputs": []
    },
    {
      "cell_type": "code",
      "source": [
        "toolbox.register(\"mate\", tools.cxPartialyMatched)\n",
        "toolbox.register(\"mutate\", tools.mutShuffleIndexes, indpb=0.05)\n",
        "toolbox.register(\"select\", tools.selTournament, tournsize=3)"
      ],
      "metadata": {
        "id": "q3tv3HTaf8b8"
      },
      "execution_count": null,
      "outputs": []
    },
    {
      "cell_type": "code",
      "source": [
        "#TASK 8 - Plotting Function\n",
        "def plot_routes(individual, title=\"Routes\"):\n",
        "    #TODO: Write a function to visualize the routes - just plot the points and lines for each vehicle\n",
        "\n",
        "\n"
      ],
      "metadata": {
        "id": "UoJfEoA4f-rc"
      },
      "execution_count": null,
      "outputs": []
    },
    {
      "cell_type": "code",
      "source": [
        "def plot_routes(individual, title=\"Routes\"):\n",
        "    plt.figure()\n",
        "    for (x, y) in locations:\n",
        "        plt.plot(x, y, 'bo')\n",
        "    plt.plot(depot[0], depot[1], 'rs')\n",
        "\n",
        "    for i in range(num_vehicles):\n",
        "        vehicle_route = [depot] + [locations[individual[j]] for j in range(i, len(individual), num_vehicles)] + [depot]\n",
        "        plt.plot(*zip(*vehicle_route), '-', 'rs')\n",
        "\n",
        "    plt.title(title)\n",
        "    plt.xlabel('X Coordinate')\n",
        "    plt.ylabel('Y Coordinate')\n",
        "    plt.show()"
      ],
      "metadata": {
        "id": "6ds-qm2IhmZF"
      },
      "execution_count": null,
      "outputs": []
    },
    {
      "cell_type": "code",
      "source": [
        "from os import statvfs\n",
        "def main():\n",
        "    random.seed(42)\n",
        "    pop = toolbox.population(n=500)\n",
        "    hof = tools.HallOfFame(1)\n",
        "    stats = tools.Statistics(lambda ind: ind.fitness.values)\n",
        "    statvfs = tools.Statistics(lambda ind: ind.fitness.values)\n",
        "    Stats.register(\"avg\", np.mean)\n",
        "    stats.register(\"std\", np.std)\n",
        "    stats.register(\"min\", np.min)\n",
        "    stats.register(\"max\", np.max)\n",
        "\n",
        "    algorithms.eaSimple(pop, toolbox, cxpb=0.5, mutpb=0.2, ngen=100, stats=stats, halloffame=hof, verbose=True)\n",
        "    plot_routes(hof[0])\n",
        "    return pop, stats, hof\n",
        "\n",
        "    if __name__ == \"__main__\":\n",
        "        main()"
      ],
      "metadata": {
        "id": "YUg6AIOthnnJ"
      },
      "execution_count": null,
      "outputs": []
    },
    {
      "cell_type": "code",
      "source": [
        "def main():\n",
        "    random.seed(42)\n",
        "    pop = toolbox.population(n=300)\n",
        "    hof = tools.HallOfFame(1)\n",
        "\n",
        "    stats = tools.Statistics(lambda ind: ind.fitness.values)\n",
        "    stats.register(\"avg\", np.mean)\n",
        "    stats.register(\"min\", np.min)\n",
        "\n",
        "    algorithms.eaSimple(pop, toolbox, 0.7, 0.2, 300, stats=stats, halloffame=hof)\n",
        "\n",
        "    plot_routes(hof[0], \"Optimal Route\")\n",
        "    return pop, stats, hof\n",
        "\n",
        "if __name__ == \"__main__\":\n",
        "    main()"
      ],
      "metadata": {
        "colab": {
          "base_uri": "https://localhost:8080/",
          "height": 1000
        },
        "id": "FOXRc2QdjzW0",
        "outputId": "c6bb9c9f-b0b0-4651-d0ea-be83e88c4db5"
      },
      "execution_count": null,
      "outputs": [
        {
          "output_type": "stream",
          "name": "stdout",
          "text": [
            "gen\tnevals\tavg   \tmin    \n",
            "0  \t300   \t622.62\t3.65755\n",
            "1  \t213   \t591.3 \t2.2941 \n",
            "2  \t243   \t586.285\t2.85139\n",
            "3  \t232   \t573.141\t3.10115\n",
            "4  \t233   \t565.029\t4.40952\n",
            "5  \t218   \t560.187\t6.52381\n",
            "6  \t213   \t554.485\t4.8642 \n",
            "7  \t233   \t551.615\t5.86406\n",
            "8  \t219   \t550.395\t1.98283\n",
            "9  \t209   \t532.05 \t4.3127 \n",
            "10 \t224   \t532.357\t1.5915 \n",
            "11 \t230   \t529.967\t4.3127 \n",
            "12 \t230   \t522.628\t4.3127 \n",
            "13 \t217   \t511.908\t4.3127 \n",
            "14 \t231   \t509.62 \t4.3127 \n",
            "15 \t250   \t498.367\t1.89787\n",
            "16 \t238   \t492.883\t1.00999\n",
            "17 \t236   \t474.653\t1.89787\n",
            "18 \t225   \t464.716\t2.08719\n",
            "19 \t225   \t440.412\t3.74981\n",
            "20 \t209   \t421.948\t4.85465\n",
            "21 \t232   \t407.751\t0.863071\n",
            "22 \t237   \t396.735\t5.78296 \n",
            "23 \t217   \t389.529\t5.33599 \n",
            "24 \t227   \t380.481\t6.48738 \n",
            "25 \t246   \t372.639\t5.37273 \n",
            "26 \t233   \t364.34 \t2.74736 \n",
            "27 \t219   \t360.535\t2.65944 \n",
            "28 \t229   \t355.032\t2.17813 \n",
            "29 \t223   \t348.779\t2.65944 \n",
            "30 \t238   \t344.346\t1.23002 \n",
            "31 \t225   \t339.037\t2.65944 \n",
            "32 \t221   \t336.943\t2.65944 \n",
            "33 \t243   \t325.874\t2.44253 \n",
            "34 \t232   \t321.989\t2.31208 \n",
            "35 \t244   \t316.916\t4.84034 \n",
            "36 \t233   \t317.124\t5.87223 \n",
            "37 \t217   \t310.199\t5.7258  \n",
            "38 \t239   \t313.645\t12.7908 \n",
            "39 \t229   \t309.852\t6.01274 \n",
            "40 \t214   \t311.066\t3.23349 \n",
            "41 \t241   \t308.297\t3.74256 \n",
            "42 \t249   \t309.928\t4.47833 \n",
            "43 \t226   \t309.096\t0.828881\n",
            "44 \t241   \t301.587\t11.4686 \n",
            "45 \t232   \t307.564\t8.02887 \n",
            "46 \t236   \t307.19 \t4.70456 \n",
            "47 \t228   \t306.039\t3.20767 \n",
            "48 \t232   \t310.689\t7.39759 \n",
            "49 \t236   \t309.122\t4.70456 \n",
            "50 \t220   \t307.014\t4.70456 \n",
            "51 \t219   \t309.666\t7.78615 \n",
            "52 \t229   \t306.549\t11.0776 \n",
            "53 \t247   \t305.859\t9.612   \n",
            "54 \t225   \t307.317\t8.02887 \n",
            "55 \t220   \t306.958\t10.3695 \n",
            "56 \t223   \t307.446\t3.23349 \n",
            "57 \t230   \t305.934\t0.746393\n",
            "58 \t215   \t305.109\t5.93246 \n",
            "59 \t211   \t305.992\t6.23646 \n",
            "60 \t232   \t305.813\t4.49394 \n",
            "61 \t237   \t303.746\t8.05678 \n",
            "62 \t223   \t296.464\t8.33373 \n",
            "63 \t223   \t307.265\t2.54656 \n",
            "64 \t237   \t301.968\t1.43267 \n",
            "65 \t215   \t299.323\t5.69424 \n",
            "66 \t240   \t305.734\t5.66832 \n",
            "67 \t210   \t302.882\t3.69737 \n",
            "68 \t229   \t299.831\t5.69424 \n",
            "69 \t225   \t299.915\t9.23544 \n",
            "70 \t230   \t298.285\t4.35152 \n",
            "71 \t226   \t304.185\t9.22917 \n",
            "72 \t248   \t304.343\t3.77218 \n",
            "73 \t220   \t302.258\t10.1617 \n",
            "74 \t214   \t300.1  \t3.80197 \n",
            "75 \t224   \t298.47 \t9.33256 \n",
            "76 \t224   \t303.075\t0.719779\n",
            "77 \t219   \t298.683\t8.70706 \n",
            "78 \t230   \t304.297\t7.24259 \n",
            "79 \t241   \t304.639\t5.57291 \n",
            "80 \t242   \t303.978\t10.6179 \n",
            "81 \t236   \t304.525\t9.73706 \n",
            "82 \t212   \t297.91 \t5.45872 \n",
            "83 \t216   \t303.746\t3.80197 \n",
            "84 \t235   \t298.243\t0.719779\n",
            "85 \t209   \t300.726\t12.0705 \n",
            "86 \t232   \t301.862\t6.32621 \n",
            "87 \t224   \t302.638\t7.15849 \n",
            "88 \t257   \t304.707\t0.622638\n",
            "89 \t215   \t301.455\t6.49317 \n",
            "90 \t224   \t302.364\t5.07698 \n",
            "91 \t223   \t302.744\t0.719779\n",
            "92 \t229   \t299.517\t0.719779\n",
            "93 \t226   \t301.906\t5.45872 \n",
            "94 \t235   \t298.597\t9.72189 \n",
            "95 \t231   \t302.046\t7.56809 \n",
            "96 \t226   \t300.892\t0.622638\n",
            "97 \t229   \t298.079\t12.8327 \n",
            "98 \t217   \t304.581\t0.622638\n",
            "99 \t237   \t303.599\t5.45872 \n",
            "100\t234   \t302.705\t3.80197 \n",
            "101\t213   \t303.877\t12.6464 \n",
            "102\t211   \t303.872\t0.622638\n",
            "103\t225   \t298.655\t0.719779\n",
            "104\t224   \t301.5  \t13.1605 \n",
            "105\t205   \t296.496\t0.622638\n",
            "106\t200   \t300.103\t0.622638\n",
            "107\t239   \t301.249\t0.798559\n",
            "108\t219   \t298.528\t9.72189 \n",
            "109\t227   \t299.964\t13.5695 \n",
            "110\t226   \t299.157\t2.6751  \n",
            "111\t250   \t302.133\t5.57291 \n",
            "112\t219   \t302.549\t3.80197 \n",
            "113\t239   \t301.31 \t6.34153 \n",
            "114\t231   \t299.741\t0.719779\n",
            "115\t223   \t304.448\t0.622638\n",
            "116\t251   \t302.355\t1.23262 \n",
            "117\t233   \t297.778\t5.57291 \n",
            "118\t217   \t301.259\t6.32621 \n",
            "119\t220   \t295.506\t5.45872 \n",
            "120\t221   \t300.956\t12.6464 \n",
            "121\t224   \t308.364\t9.72189 \n",
            "122\t232   \t297.867\t6.32621 \n",
            "123\t232   \t301.907\t15.171  \n",
            "124\t220   \t304.458\t8.80627 \n",
            "125\t231   \t300.359\t5.45872 \n",
            "126\t236   \t304.615\t0.719779\n",
            "127\t222   \t303.232\t2.00138 \n",
            "128\t230   \t300.958\t10.1617 \n",
            "129\t243   \t298.235\t6.32621 \n",
            "130\t224   \t296.349\t8.72891 \n",
            "131\t218   \t302.309\t5.13742 \n",
            "132\t228   \t302.183\t0.622638\n",
            "133\t235   \t301.966\t5.45872 \n",
            "134\t233   \t302.104\t0.719779\n",
            "135\t207   \t301.714\t10.2896 \n",
            "136\t227   \t301.979\t6.32621 \n",
            "137\t235   \t301.969\t0.719779\n",
            "138\t217   \t300.429\t0.719779\n",
            "139\t234   \t298.856\t0.719779\n",
            "140\t222   \t301.084\t3.70951 \n",
            "141\t222   \t301.041\t10.1617 \n",
            "142\t208   \t303.827\t6.34153 \n",
            "143\t240   \t304.039\t6.32621 \n",
            "144\t223   \t300.382\t9.72189 \n",
            "145\t232   \t300.934\t6.32621 \n",
            "146\t236   \t300.744\t9.35804 \n",
            "147\t232   \t302.105\t0.622638\n",
            "148\t235   \t299.735\t1.89524 \n",
            "149\t218   \t299.26 \t2.43516 \n",
            "150\t229   \t299.947\t9.12736 \n",
            "151\t235   \t301.258\t3.44573 \n",
            "152\t220   \t300.911\t3.80197 \n",
            "153\t249   \t302.382\t13.8263 \n",
            "154\t230   \t302.641\t10.3337 \n",
            "155\t215   \t299.911\t0.622638\n",
            "156\t233   \t300.802\t6.34153 \n",
            "157\t220   \t302.999\t6.34153 \n",
            "158\t210   \t298.148\t13.8263 \n",
            "159\t227   \t301.716\t9.63236 \n",
            "160\t225   \t300.567\t6.32621 \n",
            "161\t231   \t302.309\t0.681613\n",
            "162\t223   \t301.439\t16.1305 \n",
            "163\t221   \t301.288\t5.57291 \n",
            "164\t219   \t299.046\t7.56809 \n",
            "165\t240   \t302.67 \t12.1594 \n",
            "166\t228   \t298.921\t0.622638\n",
            "167\t220   \t305.231\t2.68458 \n",
            "168\t228   \t303.363\t6.32621 \n",
            "169\t227   \t297.043\t0.719779\n",
            "170\t219   \t299.124\t0.622638\n",
            "171\t231   \t300.994\t0.622638\n",
            "172\t214   \t299    \t14.3807 \n",
            "173\t226   \t306.331\t6.34153 \n",
            "174\t231   \t304.405\t0.622638\n",
            "175\t224   \t302.719\t7.56809 \n",
            "176\t235   \t302.628\t6.32621 \n",
            "177\t233   \t300.894\t6.32621 \n",
            "178\t225   \t299.987\t0.972308\n",
            "179\t203   \t301.16 \t3.93136 \n",
            "180\t237   \t300.83 \t5.57291 \n",
            "181\t221   \t303.834\t5.45872 \n",
            "182\t220   \t302.596\t8.03947 \n",
            "183\t239   \t303.451\t3.80197 \n",
            "184\t215   \t300.481\t2.47765 \n",
            "185\t230   \t299.237\t0.622638\n",
            "186\t225   \t299.419\t3.80197 \n",
            "187\t223   \t304.299\t6.08598 \n",
            "188\t234   \t300.414\t15.0685 \n",
            "189\t205   \t299.406\t0.622638\n",
            "190\t215   \t300.263\t3.07123 \n",
            "191\t227   \t300.286\t7.17243 \n",
            "192\t214   \t300.363\t11.8064 \n",
            "193\t219   \t302.858\t6.32621 \n",
            "194\t222   \t300.02 \t6.77538 \n",
            "195\t220   \t301.772\t6.32621 \n",
            "196\t228   \t299.346\t0.622638\n",
            "197\t195   \t300.036\t17.5736 \n",
            "198\t238   \t299.886\t5.85359 \n",
            "199\t218   \t297.671\t0.622638\n",
            "200\t216   \t298.874\t6.32621 \n",
            "201\t238   \t298.363\t7.17243 \n",
            "202\t232   \t302.155\t6.32621 \n",
            "203\t238   \t300.057\t3.80197 \n",
            "204\t227   \t297.526\t0.622638\n",
            "205\t233   \t300.492\t3.17578 \n",
            "206\t226   \t300.114\t9.50036 \n",
            "207\t228   \t304.886\t5.57291 \n",
            "208\t231   \t302.243\t3.80197 \n",
            "209\t226   \t302.322\t3.80197 \n",
            "210\t223   \t301.552\t0.719779\n",
            "211\t214   \t297.236\t0.622638\n",
            "212\t215   \t300.219\t0.719779\n",
            "213\t224   \t300.305\t9.22917 \n",
            "214\t226   \t301.147\t11.6737 \n",
            "215\t237   \t299.453\t5.7536  \n",
            "216\t212   \t299.992\t6.32621 \n",
            "217\t218   \t296.626\t6.93299 \n",
            "218\t231   \t301.298\t9.73706 \n",
            "219\t225   \t306.316\t0.719779\n",
            "220\t228   \t304.069\t11.2037 \n",
            "221\t237   \t304.453\t5.32642 \n",
            "222\t225   \t300.771\t0.622638\n",
            "223\t219   \t298.467\t10.1336 \n",
            "224\t218   \t300.223\t10.1336 \n",
            "225\t234   \t300.407\t13.8263 \n",
            "226\t230   \t299.72 \t5.55402 \n",
            "227\t235   \t300.074\t9.22917 \n",
            "228\t227   \t304.959\t9.48122 \n",
            "229\t234   \t304.275\t0.719779\n",
            "230\t234   \t299.053\t0.622638\n",
            "231\t237   \t307.388\t0.622638\n",
            "232\t229   \t300.803\t1.48141 \n",
            "233\t231   \t300.069\t9.50032 \n",
            "234\t219   \t301.144\t5.57291 \n",
            "235\t216   \t297.877\t6.32621 \n",
            "236\t229   \t300.595\t3.80197 \n",
            "237\t239   \t303.135\t7.56809 \n",
            "238\t228   \t300.341\t7.56809 \n",
            "239\t238   \t302.637\t6.34153 \n",
            "240\t225   \t307.525\t0.622638\n",
            "241\t219   \t301.099\t0.622638\n",
            "242\t231   \t302.177\t10.6179 \n",
            "243\t218   \t299.498\t5.57291 \n",
            "244\t227   \t300.768\t0.622638\n",
            "245\t208   \t299.474\t3.80197 \n",
            "246\t210   \t303.773\t7.4404  \n",
            "247\t217   \t300.128\t9.91386 \n",
            "248\t239   \t298.698\t6.32621 \n",
            "249\t227   \t301.793\t7.17243 \n",
            "250\t223   \t297.206\t5.57291 \n",
            "251\t239   \t302.009\t5.57291 \n",
            "252\t232   \t307.632\t10.6179 \n",
            "253\t223   \t298.751\t5.45872 \n",
            "254\t223   \t297.133\t9.22917 \n",
            "255\t215   \t301.455\t5.30677 \n",
            "256\t244   \t304.169\t3.80197 \n",
            "257\t227   \t300.938\t7.17243 \n",
            "258\t234   \t302.538\t3.80197 \n",
            "259\t228   \t302.852\t7.17243 \n",
            "260\t218   \t304.678\t9.22917 \n",
            "261\t234   \t300.823\t0.737827\n",
            "262\t223   \t302.119\t3.80197 \n",
            "263\t234   \t301.982\t5.57291 \n",
            "264\t240   \t301.189\t0.719779\n",
            "265\t243   \t300.524\t0.719779\n",
            "266\t232   \t301.899\t0.719779\n",
            "267\t230   \t299.48 \t0.622638\n",
            "268\t225   \t300.649\t0.622638\n",
            "269\t245   \t301.296\t5.57291 \n",
            "270\t234   \t300.98 \t0.681613\n",
            "271\t221   \t297.955\t3.80197 \n",
            "272\t231   \t300.207\t10.7787 \n",
            "273\t242   \t300.028\t5.45872 \n",
            "274\t228   \t301.957\t6.32621 \n",
            "275\t233   \t301.388\t9.94358 \n",
            "276\t214   \t297.127\t7.56809 \n",
            "277\t232   \t306.075\t9.22917 \n",
            "278\t232   \t306.421\t11.9128 \n",
            "279\t227   \t305.907\t3.80197 \n",
            "280\t220   \t299.345\t5.57291 \n",
            "281\t216   \t301.419\t9.73706 \n",
            "282\t230   \t298.395\t9.22917 \n",
            "283\t240   \t300.02 \t9.22917 \n",
            "284\t235   \t298.175\t5.57291 \n",
            "285\t233   \t300.409\t7.56809 \n",
            "286\t213   \t302.178\t3.80197 \n",
            "287\t248   \t303.349\t7.56809 \n",
            "288\t231   \t300.96 \t6.34153 \n",
            "289\t216   \t298.551\t0.622638\n",
            "290\t228   \t303.646\t0.622638\n",
            "291\t231   \t299.841\t6.20654 \n",
            "292\t233   \t305.181\t0.622638\n",
            "293\t240   \t299.811\t6.13147 \n",
            "294\t225   \t301.8  \t0.622638\n",
            "295\t242   \t299.627\t12.6464 \n",
            "296\t244   \t302.3  \t5.45872 \n",
            "297\t228   \t303.142\t5.57291 \n",
            "298\t212   \t301.756\t0.622638\n",
            "299\t219   \t299.352\t7.17243 \n",
            "300\t236   \t301.214\t6.20654 \n"
          ]
        },
        {
          "output_type": "display_data",
          "data": {
            "text/plain": [
              "<Figure size 640x480 with 1 Axes>"
            ],
            "image/png": "[encoded data removed]"
          },
          "metadata": {}
        }
      ]
    },
    {
      "cell_type": "code",
      "source": [
        "# Additional Tasks for the Vehicle Routing Project (Optional but highly recommended)\n",
        "\n",
        "# 1. Parameter Tuning:\n",
        "# Task: Vary parameters like population size, mutation rate, or tournament size. Analyze their impact on the results.\n",
        "# Purpose: Learn the importance of parameter tuning in genetic algorithms and how it affects outcomes.\n",
        "\n",
        "# 2. Fitness Score Analysis Over Generations:\n",
        "# Task: Plot the fitness score of the best individual over generations for different configurations.\n",
        "# Purpose: Visualize and understand the convergence behavior of the algorithm under different settings.\n",
        "\n",
        "# 3. Solution Diversity Analysis:\n",
        "# Task: Implement a method to measure and report the diversity of solutions in the population over time.\n",
        "# Purpose: Explore the balance between exploration and exploitation in genetic algorithms."
      ],
      "metadata": {
        "id": "sd_JveN_i01j"
      },
      "execution_count": null,
      "outputs": []
    }
  ]
}